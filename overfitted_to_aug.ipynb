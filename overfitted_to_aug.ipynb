{
 "cells": [
  {
   "cell_type": "code",
   "execution_count": 1,
   "id": "8c12612c",
   "metadata": {},
   "outputs": [
    {
     "name": "stderr",
     "output_type": "stream",
     "text": [
      "/home/lsj/.conda/envs/teach_augment/lib/python3.9/site-packages/tqdm/auto.py:22: TqdmWarning: IProgress not found. Please update jupyter and ipywidgets. See https://ipywidgets.readthedocs.io/en/stable/user_install.html\n",
      "  from .autonotebook import tqdm as notebook_tqdm\n"
     ]
    }
   ],
   "source": [
    "import torchvision\n",
    "from torchvision import utils\n",
    "from torchvision import datasets\n",
    "from torchvision import models\n",
    "import torchvision.transforms as T\n",
    "import torchvision.datasets as D\n",
    "\n",
    "from torch.utils.data import DataLoader\n",
    "import torch\n",
    "import torch.nn as nn\n",
    "import torch.nn.functional as F\n",
    "\n",
    "from torch import optim\n",
    "import argparse\n",
    "import datetime\n",
    "import os\n",
    "\n",
    "from lib.models import build_model\n",
    "\n",
    "\n",
    "%matplotlib inline \n",
    "from matplotlib import pyplot as plt\n"
   ]
  },
  {
   "cell_type": "code",
   "execution_count": 2,
   "id": "b974b7ac",
   "metadata": {},
   "outputs": [],
   "source": [
    "dataset = 'MNIST'\n",
    "root = '/hdd/hdd4/lsj/torchvision_dataset/MNIST'\n",
    "log_dir = '/hdd/hdd4/lsj/teach_augment'"
   ]
  },
  {
   "cell_type": "code",
   "execution_count": 3,
   "id": "e05d03ee",
   "metadata": {},
   "outputs": [],
   "source": [
    "transform = T.Compose([ T.ToTensor(), T.Normalize((0.1307,), (0.3081,))])\n",
    "trainset = datasets.MNIST(root=root, train=True, download=True, transform=transform)\n",
    "testset = datasets.MNIST(root=root, train=False, download=True, transform=transform)"
   ]
  },
  {
   "cell_type": "code",
   "execution_count": 4,
   "id": "6dab6b99",
   "metadata": {
    "scrolled": true
   },
   "outputs": [],
   "source": [
    "active_indices = {}\n",
    "\n",
    "for i in range(0, 50):\n",
    "    if trainset[i][1] not in active_indices:\n",
    "        active_indices[trainset[i][1]] = [i]\n",
    "    else:\n",
    "        active_indices[trainset[i][1]].append(i)"
   ]
  },
  {
   "cell_type": "code",
   "execution_count": 5,
   "id": "3d4865b7",
   "metadata": {},
   "outputs": [
    {
     "data": {
      "text/plain": [
       "{5: [0, 11, 35, 47],\n",
       " 0: [1, 21, 34, 37],\n",
       " 4: [2, 9, 20, 26],\n",
       " 1: [3, 6, 8, 14, 23, 24, 40],\n",
       " 9: [4, 19, 22, 33, 43, 45, 48],\n",
       " 2: [5, 16, 25, 28],\n",
       " 3: [7, 10, 12, 27, 30, 44, 49],\n",
       " 6: [13, 18, 32, 36, 39],\n",
       " 7: [15, 29, 38, 42],\n",
       " 8: [17, 31, 41, 46]}"
      ]
     },
     "execution_count": 5,
     "metadata": {},
     "output_type": "execute_result"
    }
   ],
   "source": [
    "active_indices"
   ]
  },
  {
   "cell_type": "code",
   "execution_count": 6,
   "id": "a8a0aca5",
   "metadata": {},
   "outputs": [
    {
     "data": {
      "text/plain": [
       "10"
      ]
     },
     "execution_count": 6,
     "metadata": {},
     "output_type": "execute_result"
    }
   ],
   "source": [
    "train_indices = [0, 1, 2, 3, 4, 5, 7, 13, 15, 17]\n",
    "len(train_indices)"
   ]
  },
  {
   "cell_type": "code",
   "execution_count": 7,
   "id": "6c446e2e",
   "metadata": {
    "scrolled": false
   },
   "outputs": [
    {
     "data": {
      "image/png": "[encoded data removed]",
      "text/plain": [
       "<Figure size 640x480 with 1 Axes>"
      ]
     },
     "metadata": {},
     "output_type": "display_data"
    }
   ],
   "source": [
    "def to_img(array):\n",
    "    return array.reshape(28,28)\n",
    "\n",
    "plt.imshow(to_img(trainset[2][0]), interpolation='nearest')\n",
    "plt.show()"
   ]
  },
  {
   "cell_type": "code",
   "execution_count": 8,
   "id": "de8bfe34",
   "metadata": {},
   "outputs": [
    {
     "name": "stdout",
     "output_type": "stream",
     "text": [
      "len(trainset): 10\n"
     ]
    }
   ],
   "source": [
    "train_indices = [0, 1, 2, 3, 4, 5, 7, 13, 15, 17]\n",
    "trainset = torch.utils.data.Subset(trainset, train_indices)\n",
    "print(f'len(trainset): {len(trainset)}')\n"
   ]
  },
  {
   "cell_type": "code",
   "execution_count": 9,
   "id": "7b85e06e",
   "metadata": {},
   "outputs": [],
   "source": [
    "batch_size = 10\n",
    "train_dataloader = torch.utils.data.DataLoader(trainset, batch_size=batch_size, shuffle=False, num_workers=8)\n",
    "test_dataloader = torch.utils.data.DataLoader(testset, batch_size=batch_size, shuffle=False, num_workers=4)\n"
   ]
  },
  {
   "cell_type": "code",
   "execution_count": 47,
   "id": "a91b7202",
   "metadata": {},
   "outputs": [
    {
     "name": "stdout",
     "output_type": "stream",
     "text": [
      "cuda\n"
     ]
    }
   ],
   "source": [
    "device = torch.device('cuda' if torch.cuda.is_available() else 'cpu')\n",
    "print(device)\n",
    "\n",
    "n_classes = 100 if dataset == 'CIFAR100' else 10\n",
    "n_channel = 1 if dataset == 'MNIST' else 3\n"
   ]
  },
  {
   "cell_type": "code",
   "execution_count": 48,
   "id": "d3fbdea9",
   "metadata": {},
   "outputs": [],
   "source": [
    "model = build_model('wrn-28-10', n_classes, n_channel).to(device)\n",
    "\n",
    "lr = 0.05\n",
    "num_epochs = 200\n",
    "\n",
    "optimizer = optim.Adam(model.parameters(), lr=lr)\n",
    "loss_function = nn.CrossEntropyLoss().to(device)"
   ]
  },
  {
   "cell_type": "code",
   "execution_count": 49,
   "id": "71f95b5d",
   "metadata": {},
   "outputs": [],
   "source": [
    "params = {\n",
    "    'num_epochs': num_epochs,\n",
    "    'optimizer': optimizer,\n",
    "    'loss_function': loss_function,\n",
    "    'train_dataloader': train_dataloader,\n",
    "    'test_dataloader': test_dataloader,\n",
    "    'device': device\n",
    "}"
   ]
  },
  {
   "cell_type": "code",
   "execution_count": 50,
   "id": "9b0f7cff",
   "metadata": {},
   "outputs": [],
   "source": [
    "log_dir = '/hdd/hdd4/lsj/teach_augment'\n",
    "log_dir = os.path.join(log_dir, 'MNIST-overfit-to-aug')\n",
    "if not os.path.exists(log_dir):\n",
    "    os.makedirs(log_dir)\n"
   ]
  },
  {
   "cell_type": "code",
   "execution_count": 51,
   "id": "f91a05c3",
   "metadata": {},
   "outputs": [
    {
     "name": "stdout",
     "output_type": "stream",
     "text": [
      "/hdd/hdd4/lsj/teach_augment/MNIST-overfit-to-aug\n"
     ]
    }
   ],
   "source": [
    "print(log_dir)"
   ]
  },
  {
   "cell_type": "code",
   "execution_count": 52,
   "id": "727ade05",
   "metadata": {
    "scrolled": true
   },
   "outputs": [
    {
     "name": "stdout",
     "output_type": "stream",
     "text": [
      "Epoch: 1, Train loss: 2.294552, Test loss: 845929777955708911079003258880.000000, Accuracy: 10.10\n",
      "Epoch: 2, Train loss: 6.481812, Test loss: 3173819275411.456055, Accuracy: 9.58\n",
      "Epoch: 3, Train loss: 8.766811, Test loss: 702077.592375, Accuracy: 9.74\n",
      "Epoch: 4, Train loss: 6.729294, Test loss: 737.022195, Accuracy: 9.74\n",
      "Epoch: 5, Train loss: 4.746076, Test loss: 1451.877799, Accuracy: 9.80\n",
      "Epoch: 6, Train loss: 4.057286, Test loss: 37.250850, Accuracy: 10.28\n",
      "Epoch: 7, Train loss: 3.007757, Test loss: 6.914935, Accuracy: 10.75\n",
      "Epoch: 8, Train loss: 2.423146, Test loss: 95.362081, Accuracy: 10.18\n",
      "Epoch: 9, Train loss: 2.015453, Test loss: 82.309636, Accuracy: 10.10\n",
      "Epoch: 10, Train loss: 1.994524, Test loss: 64.629338, Accuracy: 10.10\n",
      "Epoch: 11, Train loss: 2.005830, Test loss: 43.852001, Accuracy: 10.48\n",
      "Epoch: 12, Train loss: 1.984534, Test loss: 24.262989, Accuracy: 11.01\n",
      "Epoch: 13, Train loss: 1.965330, Test loss: 13.962226, Accuracy: 12.37\n",
      "Epoch: 14, Train loss: 1.926699, Test loss: 9.353557, Accuracy: 13.24\n",
      "Epoch: 15, Train loss: 1.877500, Test loss: 8.146712, Accuracy: 13.48\n",
      "Epoch: 16, Train loss: 1.837035, Test loss: 9.248546, Accuracy: 13.63\n",
      "Epoch: 17, Train loss: 1.806507, Test loss: 10.178729, Accuracy: 13.52\n",
      "Epoch: 18, Train loss: 1.779144, Test loss: 9.923718, Accuracy: 13.52\n",
      "Epoch: 19, Train loss: 1.744376, Test loss: 9.326021, Accuracy: 12.75\n",
      "Epoch: 20, Train loss: 1.702318, Test loss: 8.216908, Accuracy: 11.88\n",
      "Epoch: 21, Train loss: 1.660221, Test loss: 7.832848, Accuracy: 11.25\n",
      "Epoch: 22, Train loss: 1.617546, Test loss: 6.153596, Accuracy: 10.24\n",
      "Epoch: 23, Train loss: 1.575272, Test loss: 4.540508, Accuracy: 9.56\n",
      "Epoch: 24, Train loss: 1.534410, Test loss: 4.065461, Accuracy: 9.65\n",
      "Epoch: 25, Train loss: 1.496187, Test loss: 6.031918, Accuracy: 9.33\n",
      "Epoch: 26, Train loss: 1.456671, Test loss: 9.609334, Accuracy: 9.84\n",
      "Epoch: 27, Train loss: 1.421145, Test loss: 10.244341, Accuracy: 10.32\n",
      "Epoch: 28, Train loss: 1.390495, Test loss: 8.565171, Accuracy: 10.28\n",
      "Epoch: 29, Train loss: 1.354410, Test loss: 7.593251, Accuracy: 10.46\n",
      "Epoch: 30, Train loss: 1.320545, Test loss: 11.560307, Accuracy: 11.80\n",
      "Epoch: 31, Train loss: 1.293451, Test loss: 15.512299, Accuracy: 12.05\n",
      "Epoch: 32, Train loss: 1.264998, Test loss: 5.588849, Accuracy: 12.39\n",
      "Epoch: 33, Train loss: 1.251716, Test loss: 80.626845, Accuracy: 12.15\n",
      "Epoch: 34, Train loss: 1.360319, Test loss: 3.489743, Accuracy: 13.25\n",
      "Epoch: 35, Train loss: 1.159848, Test loss: 3.796748, Accuracy: 15.03\n",
      "Epoch: 36, Train loss: 1.199514, Test loss: 66.392476, Accuracy: 12.01\n",
      "Epoch: 37, Train loss: 1.160055, Test loss: 39.829174, Accuracy: 12.45\n",
      "Epoch: 38, Train loss: 1.104560, Test loss: 11.313941, Accuracy: 10.43\n",
      "Epoch: 39, Train loss: 1.059050, Test loss: 10.143932, Accuracy: 10.86\n",
      "Epoch: 40, Train loss: 1.038867, Test loss: 25.493374, Accuracy: 12.05\n",
      "Epoch: 41, Train loss: 0.983814, Test loss: 17.867816, Accuracy: 11.61\n",
      "Epoch: 42, Train loss: 0.957898, Test loss: 6.841367, Accuracy: 11.60\n",
      "Epoch: 43, Train loss: 0.907171, Test loss: 4.700787, Accuracy: 12.73\n",
      "Epoch: 44, Train loss: 0.860842, Test loss: 7.201145, Accuracy: 12.60\n",
      "Epoch: 45, Train loss: 0.816204, Test loss: 12.931808, Accuracy: 12.28\n",
      "Epoch: 46, Train loss: 0.761824, Test loss: 14.792599, Accuracy: 12.02\n",
      "Epoch: 47, Train loss: 0.720056, Test loss: 10.470125, Accuracy: 12.33\n",
      "Epoch: 48, Train loss: 0.676948, Test loss: 8.089686, Accuracy: 12.83\n",
      "Epoch: 49, Train loss: 0.635432, Test loss: 8.141300, Accuracy: 13.10\n",
      "Epoch: 50, Train loss: 0.589540, Test loss: 9.223938, Accuracy: 13.44\n",
      "Epoch: 51, Train loss: 0.557694, Test loss: 10.720475, Accuracy: 13.67\n",
      "Epoch: 52, Train loss: 0.521882, Test loss: 10.718122, Accuracy: 13.44\n",
      "Epoch: 53, Train loss: 0.491034, Test loss: 11.036694, Accuracy: 12.98\n",
      "Epoch: 54, Train loss: 0.472414, Test loss: 11.277907, Accuracy: 13.60\n",
      "Epoch: 55, Train loss: 0.476843, Test loss: 9.341558, Accuracy: 13.49\n",
      "Epoch: 56, Train loss: 0.411990, Test loss: 6.509658, Accuracy: 14.95\n",
      "Epoch: 57, Train loss: 0.384489, Test loss: 6.272486, Accuracy: 15.45\n",
      "Epoch: 58, Train loss: 0.356336, Test loss: 11.188580, Accuracy: 16.50\n",
      "Epoch: 59, Train loss: 0.310813, Test loss: 14.117702, Accuracy: 16.68\n",
      "Epoch: 60, Train loss: 0.280816, Test loss: 10.502614, Accuracy: 17.05\n",
      "Epoch: 61, Train loss: 0.252512, Test loss: 12.253710, Accuracy: 17.56\n",
      "Epoch: 62, Train loss: 0.260104, Test loss: 8.762800, Accuracy: 18.84\n",
      "Epoch: 63, Train loss: 0.213945, Test loss: 8.232140, Accuracy: 17.99\n",
      "Epoch: 64, Train loss: 0.201415, Test loss: 10.255509, Accuracy: 17.83\n",
      "Epoch: 65, Train loss: 0.139641, Test loss: 10.945521, Accuracy: 17.76\n",
      "Epoch: 66, Train loss: 0.152386, Test loss: 10.386790, Accuracy: 18.45\n",
      "Epoch: 67, Train loss: 0.105554, Test loss: 10.623363, Accuracy: 18.73\n",
      "Epoch: 68, Train loss: 0.092128, Test loss: 10.894760, Accuracy: 19.02\n",
      "Epoch: 69, Train loss: 0.082131, Test loss: 10.855586, Accuracy: 19.76\n",
      "Epoch: 70, Train loss: 0.068502, Test loss: 10.646396, Accuracy: 19.45\n",
      "Epoch: 71, Train loss: 0.051831, Test loss: 10.586447, Accuracy: 18.94\n",
      "Epoch: 72, Train loss: 0.042204, Test loss: 10.649627, Accuracy: 18.75\n",
      "Epoch: 73, Train loss: 0.040484, Test loss: 10.928583, Accuracy: 18.86\n",
      "Epoch: 74, Train loss: 0.031351, Test loss: 11.471574, Accuracy: 18.70\n",
      "Epoch: 75, Train loss: 0.030411, Test loss: 11.565931, Accuracy: 18.99\n",
      "Epoch: 76, Train loss: 0.025690, Test loss: 11.411965, Accuracy: 19.77\n",
      "Epoch: 77, Train loss: 0.020411, Test loss: 11.089105, Accuracy: 20.15\n",
      "Epoch: 78, Train loss: 0.018213, Test loss: 10.822045, Accuracy: 20.98\n",
      "Epoch: 79, Train loss: 0.018139, Test loss: 10.660969, Accuracy: 20.94\n",
      "Epoch: 80, Train loss: 0.017086, Test loss: 10.765425, Accuracy: 20.79\n",
      "Epoch: 81, Train loss: 0.014901, Test loss: 11.200832, Accuracy: 20.49\n",
      "Epoch: 82, Train loss: 0.012491, Test loss: 11.654097, Accuracy: 20.30\n",
      "Epoch: 83, Train loss: 0.011119, Test loss: 11.974136, Accuracy: 20.04\n",
      "Epoch: 84, Train loss: 0.010598, Test loss: 12.112774, Accuracy: 19.78\n",
      "Epoch: 85, Train loss: 0.009967, Test loss: 12.002026, Accuracy: 19.72\n",
      "Epoch: 86, Train loss: 0.008871, Test loss: 11.742128, Accuracy: 19.62\n",
      "Epoch: 87, Train loss: 0.007689, Test loss: 11.416790, Accuracy: 19.61\n",
      "Epoch: 88, Train loss: 0.006789, Test loss: 11.124977, Accuracy: 19.58\n",
      "Epoch: 89, Train loss: 0.006282, Test loss: 10.925055, Accuracy: 19.63\n",
      "Epoch: 90, Train loss: 0.006094, Test loss: 10.808253, Accuracy: 19.66\n",
      "Epoch: 91, Train loss: 0.005944, Test loss: 10.783109, Accuracy: 19.75\n",
      "Epoch: 92, Train loss: 0.005564, Test loss: 10.831001, Accuracy: 19.85\n",
      "Epoch: 93, Train loss: 0.004989, Test loss: 10.930050, Accuracy: 19.99\n",
      "Epoch: 94, Train loss: 0.004476, Test loss: 11.008282, Accuracy: 20.12\n",
      "Epoch: 95, Train loss: 0.004148, Test loss: 11.071991, Accuracy: 20.29\n",
      "Epoch: 96, Train loss: 0.003961, Test loss: 11.094261, Accuracy: 20.44\n",
      "Epoch: 97, Train loss: 0.003815, Test loss: 11.115076, Accuracy: 20.52\n",
      "Epoch: 98, Train loss: 0.003639, Test loss: 11.154419, Accuracy: 20.67\n",
      "Epoch: 99, Train loss: 0.003416, Test loss: 11.225499, Accuracy: 20.81\n",
      "Epoch: 100, Train loss: 0.003182, Test loss: 11.342126, Accuracy: 20.87\n",
      "Epoch: 101, Train loss: 0.002981, Test loss: 11.474883, Accuracy: 20.78\n",
      "Epoch: 102, Train loss: 0.002832, Test loss: 11.624976, Accuracy: 20.80\n",
      "Epoch: 103, Train loss: 0.002738, Test loss: 11.795494, Accuracy: 20.88\n",
      "Epoch: 104, Train loss: 0.002668, Test loss: 11.961852, Accuracy: 20.91\n",
      "Epoch: 105, Train loss: 0.002588, Test loss: 12.104120, Accuracy: 20.91\n",
      "Epoch: 106, Train loss: 0.002486, Test loss: 12.209541, Accuracy: 20.87\n",
      "Epoch: 107, Train loss: 0.002387, Test loss: 12.258105, Accuracy: 20.83\n",
      "Epoch: 108, Train loss: 0.002302, Test loss: 12.288281, Accuracy: 20.84\n",
      "Epoch: 109, Train loss: 0.002229, Test loss: 12.284100, Accuracy: 20.72\n",
      "Epoch: 110, Train loss: 0.002168, Test loss: 12.276851, Accuracy: 20.66\n",
      "Epoch: 111, Train loss: 0.002112, Test loss: 12.261381, Accuracy: 20.57\n",
      "Epoch: 112, Train loss: 0.002059, Test loss: 12.247922, Accuracy: 20.54\n",
      "Epoch: 113, Train loss: 0.002008, Test loss: 12.237411, Accuracy: 20.53\n",
      "Epoch: 114, Train loss: 0.001957, Test loss: 12.234106, Accuracy: 20.53\n",
      "Epoch: 115, Train loss: 0.001905, Test loss: 12.241119, Accuracy: 20.53\n",
      "Epoch: 116, Train loss: 0.001856, Test loss: 12.261619, Accuracy: 20.45\n"
     ]
    },
    {
     "name": "stdout",
     "output_type": "stream",
     "text": [
      "Epoch: 117, Train loss: 0.001808, Test loss: 12.297048, Accuracy: 20.50\n",
      "Epoch: 118, Train loss: 0.001763, Test loss: 12.338678, Accuracy: 20.48\n",
      "Epoch: 119, Train loss: 0.001722, Test loss: 12.379906, Accuracy: 20.52\n",
      "Epoch: 120, Train loss: 0.001685, Test loss: 12.433241, Accuracy: 20.56\n",
      "Epoch: 121, Train loss: 0.001649, Test loss: 12.479419, Accuracy: 20.60\n",
      "Epoch: 122, Train loss: 0.001614, Test loss: 12.513874, Accuracy: 20.60\n",
      "Epoch: 123, Train loss: 0.001582, Test loss: 12.546478, Accuracy: 20.60\n",
      "Epoch: 124, Train loss: 0.001550, Test loss: 12.569480, Accuracy: 20.60\n",
      "Epoch: 125, Train loss: 0.001520, Test loss: 12.597332, Accuracy: 20.56\n",
      "Epoch: 126, Train loss: 0.001492, Test loss: 12.611892, Accuracy: 20.57\n",
      "Epoch: 127, Train loss: 0.001466, Test loss: 12.614489, Accuracy: 20.57\n",
      "Epoch: 128, Train loss: 0.001442, Test loss: 12.617495, Accuracy: 20.54\n",
      "Epoch: 129, Train loss: 0.001419, Test loss: 12.625858, Accuracy: 20.51\n",
      "Epoch: 130, Train loss: 0.001397, Test loss: 12.635359, Accuracy: 20.49\n",
      "Epoch: 131, Train loss: 0.001376, Test loss: 12.632285, Accuracy: 20.44\n",
      "Epoch: 132, Train loss: 0.001354, Test loss: 12.653877, Accuracy: 20.45\n",
      "Epoch: 133, Train loss: 0.001333, Test loss: 12.663966, Accuracy: 20.50\n",
      "Epoch: 134, Train loss: 0.001313, Test loss: 12.678968, Accuracy: 20.53\n",
      "Epoch: 135, Train loss: 0.001293, Test loss: 12.704103, Accuracy: 20.53\n",
      "Epoch: 136, Train loss: 0.001274, Test loss: 12.731665, Accuracy: 20.51\n",
      "Epoch: 137, Train loss: 0.001257, Test loss: 12.764043, Accuracy: 20.54\n",
      "Epoch: 138, Train loss: 0.001240, Test loss: 12.792126, Accuracy: 20.53\n",
      "Epoch: 139, Train loss: 0.001224, Test loss: 12.821312, Accuracy: 20.57\n",
      "Epoch: 140, Train loss: 0.001207, Test loss: 12.845301, Accuracy: 20.61\n",
      "Epoch: 141, Train loss: 0.001192, Test loss: 12.881243, Accuracy: 20.60\n",
      "Epoch: 142, Train loss: 0.001176, Test loss: 12.897796, Accuracy: 20.61\n",
      "Epoch: 143, Train loss: 0.001161, Test loss: 12.922384, Accuracy: 20.61\n",
      "Epoch: 144, Train loss: 0.001146, Test loss: 12.939592, Accuracy: 20.60\n",
      "Epoch: 145, Train loss: 0.001131, Test loss: 12.949959, Accuracy: 20.58\n",
      "Epoch: 146, Train loss: 0.001117, Test loss: 12.959971, Accuracy: 20.61\n",
      "Epoch: 147, Train loss: 0.001104, Test loss: 12.969441, Accuracy: 20.62\n",
      "Epoch: 148, Train loss: 0.001090, Test loss: 12.980504, Accuracy: 20.62\n",
      "Epoch: 149, Train loss: 0.001077, Test loss: 12.985944, Accuracy: 20.63\n",
      "Epoch: 150, Train loss: 0.001065, Test loss: 12.993118, Accuracy: 20.64\n",
      "Epoch: 151, Train loss: 0.001052, Test loss: 12.998659, Accuracy: 20.67\n",
      "Epoch: 152, Train loss: 0.001040, Test loss: 13.009118, Accuracy: 20.70\n",
      "Epoch: 153, Train loss: 0.001028, Test loss: 13.018130, Accuracy: 20.72\n",
      "Epoch: 154, Train loss: 0.001017, Test loss: 13.032437, Accuracy: 20.72\n",
      "Epoch: 155, Train loss: 0.001006, Test loss: 13.032939, Accuracy: 20.70\n",
      "Epoch: 156, Train loss: 0.000994, Test loss: 13.049285, Accuracy: 20.70\n",
      "Epoch: 157, Train loss: 0.000984, Test loss: 13.067403, Accuracy: 20.71\n",
      "Epoch: 158, Train loss: 0.000973, Test loss: 13.081905, Accuracy: 20.71\n",
      "Epoch: 159, Train loss: 0.000962, Test loss: 13.090003, Accuracy: 20.72\n",
      "Epoch: 160, Train loss: 0.000952, Test loss: 13.108148, Accuracy: 20.74\n",
      "Epoch: 161, Train loss: 0.000942, Test loss: 13.128374, Accuracy: 20.73\n",
      "Epoch: 162, Train loss: 0.000932, Test loss: 13.135384, Accuracy: 20.75\n",
      "Epoch: 163, Train loss: 0.000922, Test loss: 13.148311, Accuracy: 20.73\n",
      "Epoch: 164, Train loss: 0.000913, Test loss: 13.153561, Accuracy: 20.76\n",
      "Epoch: 165, Train loss: 0.000903, Test loss: 13.173610, Accuracy: 20.75\n",
      "Epoch: 166, Train loss: 0.000894, Test loss: 13.173653, Accuracy: 20.76\n",
      "Epoch: 167, Train loss: 0.000885, Test loss: 13.185401, Accuracy: 20.77\n",
      "Epoch: 168, Train loss: 0.000876, Test loss: 13.193170, Accuracy: 20.78\n",
      "Epoch: 169, Train loss: 0.000867, Test loss: 13.203477, Accuracy: 20.80\n",
      "Epoch: 170, Train loss: 0.000859, Test loss: 13.202867, Accuracy: 20.82\n",
      "Epoch: 171, Train loss: 0.000850, Test loss: 13.217070, Accuracy: 20.81\n",
      "Epoch: 172, Train loss: 0.000842, Test loss: 13.231276, Accuracy: 20.83\n",
      "Epoch: 173, Train loss: 0.000833, Test loss: 13.237551, Accuracy: 20.79\n",
      "Epoch: 174, Train loss: 0.000825, Test loss: 13.245963, Accuracy: 20.79\n",
      "Epoch: 175, Train loss: 0.000817, Test loss: 13.257125, Accuracy: 20.78\n",
      "Epoch: 176, Train loss: 0.000810, Test loss: 13.260744, Accuracy: 20.79\n",
      "Epoch: 177, Train loss: 0.000802, Test loss: 13.276404, Accuracy: 20.76\n",
      "Epoch: 178, Train loss: 0.000794, Test loss: 13.285161, Accuracy: 20.77\n",
      "Epoch: 179, Train loss: 0.000787, Test loss: 13.287767, Accuracy: 20.77\n",
      "Epoch: 180, Train loss: 0.000779, Test loss: 13.291432, Accuracy: 20.78\n",
      "Epoch: 181, Train loss: 0.000772, Test loss: 13.295706, Accuracy: 20.78\n",
      "Epoch: 182, Train loss: 0.000765, Test loss: 13.299512, Accuracy: 20.80\n",
      "Epoch: 183, Train loss: 0.000758, Test loss: 13.305393, Accuracy: 20.84\n",
      "Epoch: 184, Train loss: 0.000751, Test loss: 13.313144, Accuracy: 20.85\n",
      "Epoch: 185, Train loss: 0.000744, Test loss: 13.323989, Accuracy: 20.84\n",
      "Epoch: 186, Train loss: 0.000737, Test loss: 13.334677, Accuracy: 20.82\n",
      "Epoch: 187, Train loss: 0.000731, Test loss: 13.332215, Accuracy: 20.86\n",
      "Epoch: 188, Train loss: 0.000724, Test loss: 13.346233, Accuracy: 20.86\n",
      "Epoch: 189, Train loss: 0.000717, Test loss: 13.354288, Accuracy: 20.87\n",
      "Epoch: 190, Train loss: 0.000711, Test loss: 13.363493, Accuracy: 20.87\n",
      "Epoch: 191, Train loss: 0.000705, Test loss: 13.367323, Accuracy: 20.88\n",
      "Epoch: 192, Train loss: 0.000698, Test loss: 13.375527, Accuracy: 20.89\n",
      "Epoch: 193, Train loss: 0.000692, Test loss: 13.391073, Accuracy: 20.88\n",
      "Epoch: 194, Train loss: 0.000686, Test loss: 13.395448, Accuracy: 20.88\n",
      "Epoch: 195, Train loss: 0.000680, Test loss: 13.396761, Accuracy: 20.88\n",
      "Epoch: 196, Train loss: 0.000674, Test loss: 13.406028, Accuracy: 20.86\n",
      "Epoch: 197, Train loss: 0.000669, Test loss: 13.414979, Accuracy: 20.89\n",
      "Epoch: 198, Train loss: 0.000663, Test loss: 13.419183, Accuracy: 20.85\n",
      "Epoch: 199, Train loss: 0.000657, Test loss: 13.423848, Accuracy: 20.87\n",
      "Epoch: 200, Train loss: 0.000652, Test loss: 13.434341, Accuracy: 20.88\n"
     ]
    }
   ],
   "source": [
    "list_train_loss = []\n",
    "list_train_accuracy = []\n",
    "list_test_loss = []\n",
    "list_test_accuracy = []\n",
    "\n",
    "\n",
    "for epoch in range(1, num_epochs+1):\n",
    "    model.train()\n",
    "    train_loss_sum = 0.0\n",
    "    train_correct = 0\n",
    "\n",
    "    for i, data in enumerate(train_dataloader, 0):\n",
    "#         print(f'epoch: {epoch}, i: {i}')\n",
    "        # train dataloader 로 불러온 데이터에서 이미지와 라벨을 분리\n",
    "        inputs, labels = data\n",
    "        inputs = inputs.to(device)\n",
    "        labels = labels.to(device)\n",
    "\n",
    "        # 이전 batch에서 계산된 가중치를 초기화\n",
    "        optimizer.zero_grad() \n",
    "\n",
    "        # forward + back propagation 연산\n",
    "        outputs = model(inputs)\n",
    "        train_loss = loss_function(outputs, labels)\n",
    "        train_loss.backward()\n",
    "        optimizer.step()\n",
    "\n",
    "        _, predicted = torch.max(outputs.data, 1)\n",
    "        train_correct += (predicted == labels).sum().item()\n",
    "        train_loss_sum += train_loss.item() * len(inputs)\n",
    "\n",
    "    final_train_loss = train_loss_sum / len(trainset)\n",
    "    \n",
    "    total = 0\n",
    "    correct = 0\n",
    "    test_loss_sum = 0.0\n",
    "\n",
    "    model.eval()\n",
    "    for i, data in enumerate(test_dataloader, 0):\n",
    "        inputs, labels = data\n",
    "        inputs = inputs.to(device)\n",
    "        labels = labels.to(device)\n",
    "\n",
    "        with torch.no_grad():\n",
    "            outputs = model(inputs)\n",
    "\n",
    "            _, predicted = torch.max(outputs.data, 1)\n",
    "            total += labels.size(0)\n",
    "            correct += (predicted == labels).sum().item()\n",
    "            test_loss = loss_function(outputs, labels)\n",
    "            test_loss_sum += test_loss.item() * len(inputs)\n",
    "\n",
    "    final_test_loss = test_loss_sum / len(testset)\n",
    "\n",
    "    # 학습 결과 출력\n",
    "    print('Epoch: %d, Train loss: %.6f, Test loss: %.6f, Accuracy: %.2f' %(epoch, final_train_loss, final_test_loss, 100*correct/total))\n",
    "#     wandb.log({\n",
    "#         'train/loss': final_train_loss,\n",
    "#         'train/acc': train_correct/len(trainset),\n",
    "#         'eval/loss': final_test_loss,\n",
    "#         'eval/acc': correct/total,\n",
    "#     })\n",
    "\n",
    "    list_train_loss.append(final_train_loss)\n",
    "    list_train_accuracy.append(train_correct/len(trainset))\n",
    "    list_test_loss.append(final_test_loss)\n",
    "    list_test_accuracy.append(correct/total)\n",
    "    \n",
    "    if epoch % 20 == 0:\n",
    "        torch.save(model.state_dict(), os.path.join(log_dir, f'MNIST-one-per-class-wrn-28-10-epoch{epoch:02d}.pt'))\n"
   ]
  },
  {
   "cell_type": "code",
   "execution_count": 54,
   "id": "e1cbcf7b",
   "metadata": {},
   "outputs": [
    {
     "data": {
      "image/png": "[encoded data removed]",
      "text/plain": [
       "<Figure size 640x480 with 1 Axes>"
      ]
     },
     "metadata": {},
     "output_type": "display_data"
    }
   ],
   "source": [
    "plt.ylim(0, 15)\n",
    "plt.plot(list(range(0, 200)), list_train_loss)\n",
    "plt.plot(list(range(0, 200)), list_test_loss)\n",
    "plt.show()"
   ]
  },
  {
   "cell_type": "code",
   "execution_count": 55,
   "id": "8d9054af",
   "metadata": {},
   "outputs": [
    {
     "data": {
      "image/png": "[encoded data removed]",
      "text/plain": [
       "<Figure size 640x480 with 1 Axes>"
      ]
     },
     "metadata": {},
     "output_type": "display_data"
    }
   ],
   "source": [
    "# plt.ylim(0, 15)\n",
    "plt.plot(list(range(0, 200)), list_train_accuracy)\n",
    "plt.plot(list(range(0, 200)), list_test_accuracy)\n",
    "plt.show()"
   ]
  },
  {
   "cell_type": "markdown",
   "id": "d9fe2692",
   "metadata": {},
   "source": [
    "# Overfit to Aug?"
   ]
  },
  {
   "cell_type": "code",
   "execution_count": 11,
   "id": "db006752",
   "metadata": {},
   "outputs": [
    {
     "data": {
      "text/plain": [
       "WideResNet(\n",
       "  (conv1): Conv2d(1, 16, kernel_size=(3, 3), stride=(1, 1), padding=(1, 1))\n",
       "  (layer1): Sequential(\n",
       "    (0): WideBasic(\n",
       "      (bn1): BatchNorm2d(16, eps=1e-05, momentum=0.9, affine=True, track_running_stats=True)\n",
       "      (conv1): Conv2d(16, 160, kernel_size=(3, 3), stride=(1, 1), padding=(1, 1))\n",
       "      (dropout): Dropout(p=0, inplace=False)\n",
       "      (bn2): BatchNorm2d(160, eps=1e-05, momentum=0.9, affine=True, track_running_stats=True)\n",
       "      (conv2): Conv2d(160, 160, kernel_size=(3, 3), stride=(1, 1), padding=(1, 1))\n",
       "      (shortcut): Sequential(\n",
       "        (0): Conv2d(16, 160, kernel_size=(1, 1), stride=(1, 1))\n",
       "      )\n",
       "    )\n",
       "    (1): WideBasic(\n",
       "      (bn1): BatchNorm2d(160, eps=1e-05, momentum=0.9, affine=True, track_running_stats=True)\n",
       "      (conv1): Conv2d(160, 160, kernel_size=(3, 3), stride=(1, 1), padding=(1, 1))\n",
       "      (dropout): Dropout(p=0, inplace=False)\n",
       "      (bn2): BatchNorm2d(160, eps=1e-05, momentum=0.9, affine=True, track_running_stats=True)\n",
       "      (conv2): Conv2d(160, 160, kernel_size=(3, 3), stride=(1, 1), padding=(1, 1))\n",
       "      (shortcut): Sequential()\n",
       "    )\n",
       "    (2): WideBasic(\n",
       "      (bn1): BatchNorm2d(160, eps=1e-05, momentum=0.9, affine=True, track_running_stats=True)\n",
       "      (conv1): Conv2d(160, 160, kernel_size=(3, 3), stride=(1, 1), padding=(1, 1))\n",
       "      (dropout): Dropout(p=0, inplace=False)\n",
       "      (bn2): BatchNorm2d(160, eps=1e-05, momentum=0.9, affine=True, track_running_stats=True)\n",
       "      (conv2): Conv2d(160, 160, kernel_size=(3, 3), stride=(1, 1), padding=(1, 1))\n",
       "      (shortcut): Sequential()\n",
       "    )\n",
       "    (3): WideBasic(\n",
       "      (bn1): BatchNorm2d(160, eps=1e-05, momentum=0.9, affine=True, track_running_stats=True)\n",
       "      (conv1): Conv2d(160, 160, kernel_size=(3, 3), stride=(1, 1), padding=(1, 1))\n",
       "      (dropout): Dropout(p=0, inplace=False)\n",
       "      (bn2): BatchNorm2d(160, eps=1e-05, momentum=0.9, affine=True, track_running_stats=True)\n",
       "      (conv2): Conv2d(160, 160, kernel_size=(3, 3), stride=(1, 1), padding=(1, 1))\n",
       "      (shortcut): Sequential()\n",
       "    )\n",
       "  )\n",
       "  (layer2): Sequential(\n",
       "    (0): WideBasic(\n",
       "      (bn1): BatchNorm2d(160, eps=1e-05, momentum=0.9, affine=True, track_running_stats=True)\n",
       "      (conv1): Conv2d(160, 320, kernel_size=(3, 3), stride=(1, 1), padding=(1, 1))\n",
       "      (dropout): Dropout(p=0, inplace=False)\n",
       "      (bn2): BatchNorm2d(320, eps=1e-05, momentum=0.9, affine=True, track_running_stats=True)\n",
       "      (conv2): Conv2d(320, 320, kernel_size=(3, 3), stride=(2, 2), padding=(1, 1))\n",
       "      (shortcut): Sequential(\n",
       "        (0): Conv2d(160, 320, kernel_size=(1, 1), stride=(2, 2))\n",
       "      )\n",
       "    )\n",
       "    (1): WideBasic(\n",
       "      (bn1): BatchNorm2d(320, eps=1e-05, momentum=0.9, affine=True, track_running_stats=True)\n",
       "      (conv1): Conv2d(320, 320, kernel_size=(3, 3), stride=(1, 1), padding=(1, 1))\n",
       "      (dropout): Dropout(p=0, inplace=False)\n",
       "      (bn2): BatchNorm2d(320, eps=1e-05, momentum=0.9, affine=True, track_running_stats=True)\n",
       "      (conv2): Conv2d(320, 320, kernel_size=(3, 3), stride=(1, 1), padding=(1, 1))\n",
       "      (shortcut): Sequential()\n",
       "    )\n",
       "    (2): WideBasic(\n",
       "      (bn1): BatchNorm2d(320, eps=1e-05, momentum=0.9, affine=True, track_running_stats=True)\n",
       "      (conv1): Conv2d(320, 320, kernel_size=(3, 3), stride=(1, 1), padding=(1, 1))\n",
       "      (dropout): Dropout(p=0, inplace=False)\n",
       "      (bn2): BatchNorm2d(320, eps=1e-05, momentum=0.9, affine=True, track_running_stats=True)\n",
       "      (conv2): Conv2d(320, 320, kernel_size=(3, 3), stride=(1, 1), padding=(1, 1))\n",
       "      (shortcut): Sequential()\n",
       "    )\n",
       "    (3): WideBasic(\n",
       "      (bn1): BatchNorm2d(320, eps=1e-05, momentum=0.9, affine=True, track_running_stats=True)\n",
       "      (conv1): Conv2d(320, 320, kernel_size=(3, 3), stride=(1, 1), padding=(1, 1))\n",
       "      (dropout): Dropout(p=0, inplace=False)\n",
       "      (bn2): BatchNorm2d(320, eps=1e-05, momentum=0.9, affine=True, track_running_stats=True)\n",
       "      (conv2): Conv2d(320, 320, kernel_size=(3, 3), stride=(1, 1), padding=(1, 1))\n",
       "      (shortcut): Sequential()\n",
       "    )\n",
       "  )\n",
       "  (layer3): Sequential(\n",
       "    (0): WideBasic(\n",
       "      (bn1): BatchNorm2d(320, eps=1e-05, momentum=0.9, affine=True, track_running_stats=True)\n",
       "      (conv1): Conv2d(320, 640, kernel_size=(3, 3), stride=(1, 1), padding=(1, 1))\n",
       "      (dropout): Dropout(p=0, inplace=False)\n",
       "      (bn2): BatchNorm2d(640, eps=1e-05, momentum=0.9, affine=True, track_running_stats=True)\n",
       "      (conv2): Conv2d(640, 640, kernel_size=(3, 3), stride=(2, 2), padding=(1, 1))\n",
       "      (shortcut): Sequential(\n",
       "        (0): Conv2d(320, 640, kernel_size=(1, 1), stride=(2, 2))\n",
       "      )\n",
       "    )\n",
       "    (1): WideBasic(\n",
       "      (bn1): BatchNorm2d(640, eps=1e-05, momentum=0.9, affine=True, track_running_stats=True)\n",
       "      (conv1): Conv2d(640, 640, kernel_size=(3, 3), stride=(1, 1), padding=(1, 1))\n",
       "      (dropout): Dropout(p=0, inplace=False)\n",
       "      (bn2): BatchNorm2d(640, eps=1e-05, momentum=0.9, affine=True, track_running_stats=True)\n",
       "      (conv2): Conv2d(640, 640, kernel_size=(3, 3), stride=(1, 1), padding=(1, 1))\n",
       "      (shortcut): Sequential()\n",
       "    )\n",
       "    (2): WideBasic(\n",
       "      (bn1): BatchNorm2d(640, eps=1e-05, momentum=0.9, affine=True, track_running_stats=True)\n",
       "      (conv1): Conv2d(640, 640, kernel_size=(3, 3), stride=(1, 1), padding=(1, 1))\n",
       "      (dropout): Dropout(p=0, inplace=False)\n",
       "      (bn2): BatchNorm2d(640, eps=1e-05, momentum=0.9, affine=True, track_running_stats=True)\n",
       "      (conv2): Conv2d(640, 640, kernel_size=(3, 3), stride=(1, 1), padding=(1, 1))\n",
       "      (shortcut): Sequential()\n",
       "    )\n",
       "    (3): WideBasic(\n",
       "      (bn1): BatchNorm2d(640, eps=1e-05, momentum=0.9, affine=True, track_running_stats=True)\n",
       "      (conv1): Conv2d(640, 640, kernel_size=(3, 3), stride=(1, 1), padding=(1, 1))\n",
       "      (dropout): Dropout(p=0, inplace=False)\n",
       "      (bn2): BatchNorm2d(640, eps=1e-05, momentum=0.9, affine=True, track_running_stats=True)\n",
       "      (conv2): Conv2d(640, 640, kernel_size=(3, 3), stride=(1, 1), padding=(1, 1))\n",
       "      (shortcut): Sequential()\n",
       "    )\n",
       "  )\n",
       "  (bn1): BatchNorm2d(640, eps=1e-05, momentum=0.9, affine=True, track_running_stats=True)\n",
       "  (linear): Linear(in_features=640, out_features=10, bias=True)\n",
       ")"
      ]
     },
     "execution_count": 11,
     "metadata": {},
     "output_type": "execute_result"
    }
   ],
   "source": [
    "device = torch.device('cuda' if torch.cuda.is_available() else 'cpu')\n",
    "\n",
    "n_classes = 100 if dataset == 'CIFAR100' else 10\n",
    "n_channel = 1 if dataset == 'MNIST' else 3\n",
    "\n",
    "model = build_model('wrn-28-10', n_classes, n_channel).to(device)\n",
    "model.load_state_dict(torch.load('/hdd/hdd4/lsj/teach_augment/MNIST-overfit-to-aug/MNIST-one-per-class-wrn-28-10-epoch200.pt'))\n",
    "model = model.to(device)\n",
    "model.eval()"
   ]
  },
  {
   "cell_type": "code",
   "execution_count": 13,
   "id": "3e754690",
   "metadata": {},
   "outputs": [
    {
     "name": "stdout",
     "output_type": "stream",
     "text": [
      "0.21721666666666667\n",
      "12.72488049507141\n"
     ]
    }
   ],
   "source": [
    "transform = T.Compose([ T.ToTensor(), T.Normalize((0.1307,), (0.3081,))])\n",
    "trainset = datasets.MNIST(root=root, train=True, download=True, transform=transform)\n",
    "testset = datasets.MNIST(root=root, train=False, download=True, transform=transform)\n",
    "\n",
    "batch_size = 100\n",
    "train_dataloader = torch.utils.data.DataLoader(trainset, batch_size=batch_size, shuffle=False, num_workers=8)\n",
    "test_dataloader = torch.utils.data.DataLoader(testset, batch_size=batch_size, shuffle=False, num_workers=4)\n",
    "\n",
    "loss_function = nn.CrossEntropyLoss().to(device)\n",
    "\n",
    "train_correct = 0\n",
    "train_loss_sum = 0.0\n",
    "\n",
    "for i, data in enumerate(train_dataloader):\n",
    "    inputs, labels = data\n",
    "    inputs = inputs.to(device)\n",
    "    labels = labels.to(device)\n",
    "\n",
    "    # forward + back propagation 연산\n",
    "    outputs = model(inputs)\n",
    "    train_loss = loss_function(outputs, labels)\n",
    "\n",
    "    _, predicted = torch.max(outputs.data, 1)\n",
    "    train_correct += (predicted == labels).sum().item()\n",
    "    train_loss_sum += train_loss.item() * len(inputs)\n",
    "\n",
    "print(train_correct / len(trainset))\n",
    "print(train_loss_sum / len(trainset))"
   ]
  },
  {
   "cell_type": "markdown",
   "id": "2ec34978",
   "metadata": {},
   "source": [
    "# 맞춘 애들에 대해, augmentation 해서 해봐."
   ]
  },
  {
   "cell_type": "code",
   "execution_count": 62,
   "id": "ca9785d5",
   "metadata": {
    "scrolled": true
   },
   "outputs": [
    {
     "data": {
      "text/plain": [
       "tensor([False, False, False,  True, False, False,  True, False, False, False,\n",
       "        False, False,  True, False,  True,  True,  True,  True, False, False,\n",
       "        False, False, False, False, False, False, False, False,  True,  True,\n",
       "        False, False, False, False, False, False, False, False, False, False,\n",
       "        False, False,  True, False,  True, False, False, False, False, False,\n",
       "        False, False, False, False,  True, False, False, False, False, False,\n",
       "        False, False, False, False,  True, False, False, False,  True, False,\n",
       "         True, False, False,  True, False, False, False, False, False,  True,\n",
       "        False, False, False, False, False, False, False, False,  True, False,\n",
       "        False, False, False, False, False, False, False, False, False, False],\n",
       "       device='cuda:0')"
      ]
     },
     "execution_count": 62,
     "metadata": {},
     "output_type": "execute_result"
    }
   ],
   "source": [
    "predicted == labels"
   ]
  },
  {
   "cell_type": "code",
   "execution_count": 15,
   "id": "c7d0582c",
   "metadata": {
    "scrolled": true
   },
   "outputs": [
    {
     "name": "stdout",
     "output_type": "stream",
     "text": [
      "1.0\n",
      "0.0006601435015909374\n"
     ]
    }
   ],
   "source": [
    "train_indices = [0, 1, 2, 3, 4, 5, 7, 13, 15, 17]\n",
    "trainset = torch.utils.data.Subset(trainset, train_indices)\n",
    "train_dataloader = torch.utils.data.DataLoader(trainset, batch_size=batch_size, shuffle=False, num_workers=8)\n",
    "\n",
    "train_correct = 0\n",
    "train_loss_sum = 0.0\n",
    "\n",
    "for i, data in enumerate(train_dataloader):\n",
    "    inputs, labels = data\n",
    "    inputs = inputs.to(device)\n",
    "    labels = labels.to(device)\n",
    "\n",
    "    # forward + back propagation 연산\n",
    "    outputs = model(inputs)\n",
    "    train_loss = loss_function(outputs, labels)\n",
    "\n",
    "    _, predicted = torch.max(outputs.data, 1)\n",
    "    train_correct += (predicted == labels).sum().item()\n",
    "    train_loss_sum += train_loss.item() * len(inputs)\n",
    "\n",
    "print(train_correct / len(trainset))\n",
    "print(train_loss_sum / len(trainset))"
   ]
  },
  {
   "cell_type": "code",
   "execution_count": 16,
   "id": "07b9bbc6",
   "metadata": {},
   "outputs": [],
   "source": [
    "RA = torchvision.transforms.RandAugment(num_ops=2, magnitude=9)"
   ]
  },
  {
   "cell_type": "code",
   "execution_count": 17,
   "id": "8313098b",
   "metadata": {},
   "outputs": [
    {
     "data": {
      "text/plain": [
       "RandAugment(num_ops=2, magnitude=9, num_magnitude_bins=31, interpolation=InterpolationMode.NEAREST, fill=None)"
      ]
     },
     "execution_count": 17,
     "metadata": {},
     "output_type": "execute_result"
    }
   ],
   "source": [
    "RA"
   ]
  },
  {
   "cell_type": "markdown",
   "id": "b862c354",
   "metadata": {},
   "source": [
    "# RA magitude =1"
   ]
  },
  {
   "cell_type": "code",
   "execution_count": 8,
   "id": "63e47e9f",
   "metadata": {},
   "outputs": [],
   "source": [
    "from torchvision.utils import make_grid\n",
    "import matplotlib.image\n",
    "\n",
    "def grid_save_img(x, file_name, max_display=10):\n",
    "    grid = make_grid((x[:max_display]),4).permute(1,2,0).cpu().numpy()\n",
    "    plt.xticks([])\n",
    "    plt.yticks([])\n",
    "#     plt.tight_layout()\n",
    "#     plt.savefig(f'{file_name}.png', dpi=300)\n",
    "    plt.imshow(grid)\n",
    "\n",
    "\n",
    "# plt.show()\n",
    "\n",
    "    \n",
    "    \n",
    "# show_imgs(inputs)"
   ]
  },
  {
   "cell_type": "code",
   "execution_count": 30,
   "id": "8f038993",
   "metadata": {
    "scrolled": true
   },
   "outputs": [
    {
     "name": "stdout",
     "output_type": "stream",
     "text": [
      "1\n",
      "0.8333333333333334\n",
      "1.6884537935256958\n",
      "\n",
      "2\n",
      "0.7000000000000001\n",
      "3.962431181105785\n",
      "\n",
      "3\n",
      "0.6666666666666666\n",
      "5.1199954350789385\n",
      "\n",
      "4\n",
      "0.7000000000000001\n",
      "5.752538839975993\n",
      "\n",
      "5\n",
      "0.6\n",
      "3.815319299697876\n",
      "\n",
      "6\n",
      "0.7000000000000001\n",
      "4.467962741851807\n",
      "\n",
      "7\n",
      "0.6666666666666666\n",
      "3.867816209793091\n",
      "\n",
      "8\n",
      "0.6\n",
      "2.3995757897694907\n",
      "\n",
      "9\n",
      "0.39999999999999997\n",
      "6.068544069925944\n",
      "\n",
      "10\n",
      "0.4666666666666666\n",
      "5.987120707829793\n",
      "\n",
      "11\n",
      "0.43333333333333335\n",
      "7.146831671396892\n",
      "\n",
      "12\n",
      "0.4666666666666666\n",
      "5.0030903816223145\n",
      "\n",
      "13\n",
      "0.5666666666666667\n",
      "4.067257483800252\n",
      "\n",
      "14\n",
      "0.5666666666666667\n",
      "6.058703184127808\n",
      "\n",
      "15\n",
      "0.5\n",
      "4.6581025918324785\n",
      "\n",
      "16\n",
      "0.3333333333333333\n",
      "6.34071159362793\n",
      "\n",
      "17\n",
      "0.4666666666666666\n",
      "4.360821167627971\n",
      "\n",
      "18\n",
      "0.5666666666666667\n",
      "5.751536766688029\n",
      "\n",
      "19\n",
      "0.3333333333333333\n",
      "5.5470757484436035\n",
      "\n",
      "20\n",
      "0.3666666666666667\n",
      "6.7048923174540205\n",
      "\n"
     ]
    }
   ],
   "source": [
    "log_dir = '/hdd/hdd4/lsj/teach_augment'\n",
    "log_dir = os.path.join(log_dir, 'MNIST-overfit-to-aug')\n",
    "\n",
    "list_accuracy = [1.0]\n",
    "list_loss = [0.0006601435015909374]\n",
    "\n",
    "device = torch.device('cuda' if torch.cuda.is_available() else 'cpu')\n",
    "\n",
    "n_classes = 100 if dataset == 'CIFAR100' else 10\n",
    "n_channel = 1 if dataset == 'MNIST' else 3\n",
    "\n",
    "model = build_model('wrn-28-10', n_classes, n_channel).to(device)\n",
    "model.load_state_dict(torch.load('/hdd/hdd4/lsj/teach_augment/MNIST-overfit-to-aug/MNIST-one-per-class-wrn-28-10-epoch200.pt'))\n",
    "model = model.to(device)\n",
    "model.eval()\n",
    "\n",
    "loss_function = nn.CrossEntropyLoss().to(device)\n",
    "\n",
    "\n",
    "for mag in range(1, 21):\n",
    "    print(mag)\n",
    "    RA = torchvision.transforms.RandAugment(num_ops=2, magnitude=mag)\n",
    "    composed = T.Compose([\n",
    "        RA,\n",
    "        T.ToTensor(),\n",
    "        T.Normalize((0.1307,), (0.3081,))\n",
    "    ])\n",
    "\n",
    "    trainset = datasets.MNIST(root=root, train=True, download=True, transform=composed)\n",
    "\n",
    "    train_indices = [0, 1, 2, 3, 4, 5, 7, 13, 15, 17]\n",
    "    trainset = torch.utils.data.Subset(trainset, train_indices)\n",
    "    batch_size = 15\n",
    "    train_dataloader = torch.utils.data.DataLoader(trainset, batch_size=batch_size, shuffle=True, num_workers=8)\n",
    "\n",
    "    train_correct = 0\n",
    "    train_loss_sum = 0.0\n",
    "\n",
    "    for j in range(0, 3):\n",
    "        for i, data in enumerate(train_dataloader):\n",
    "            inputs, labels = data\n",
    "            inputs = inputs.to(device)\n",
    "            labels = labels.to(device)\n",
    "\n",
    "            # forward + back propagation 연산\n",
    "            outputs = model(inputs)\n",
    "            train_loss = loss_function(outputs, labels)\n",
    "\n",
    "            _, predicted = torch.max(outputs.data, 1)\n",
    "            train_correct += (predicted == labels).sum().item()\n",
    "            train_loss_sum += train_loss.item() * len(inputs)\n",
    "\n",
    "    print(train_correct / len(trainset)/3)\n",
    "    print(train_loss_sum / len(trainset)/3)\n",
    "\n",
    "    list_accuracy.append(train_correct / len(trainset)/3)\n",
    "    list_loss.append(train_loss_sum / len(trainset)/3)\n",
    "\n",
    "#     grid_save_img(inputs, os.path.join(log_dir, f'seen_img_RA_mag{mag:02d}'))\n",
    "    print()\n"
   ]
  },
  {
   "cell_type": "code",
   "execution_count": 35,
   "id": "9279f55b",
   "metadata": {},
   "outputs": [
    {
     "name": "stdout",
     "output_type": "stream",
     "text": [
      "[1.0, 0.8333333333333334, 0.7000000000000001, 0.6666666666666666, 0.7000000000000001, 0.6, 0.7000000000000001, 0.6666666666666666, 0.6, 0.39999999999999997, 0.4666666666666666, 0.43333333333333335, 0.4666666666666666, 0.5666666666666667, 0.5666666666666667, 0.5, 0.3333333333333333, 0.4666666666666666, 0.5666666666666667, 0.3333333333333333, 0.3666666666666667]\n"
     ]
    },
    {
     "data": {
      "image/png": "[encoded data removed]",
      "text/plain": [
       "<Figure size 640x480 with 1 Axes>"
      ]
     },
     "metadata": {},
     "output_type": "display_data"
    }
   ],
   "source": [
    "print(list_accuracy)\n",
    "plt.plot(list(range(0, 21)), list_accuracy)\n",
    "# plt.plot(list(range(0, 21)), list_loss)\n",
    "plt.show()"
   ]
  },
  {
   "cell_type": "code",
   "execution_count": 36,
   "id": "d1754006",
   "metadata": {},
   "outputs": [
    {
     "name": "stdout",
     "output_type": "stream",
     "text": [
      "[0.0006601435015909374, 1.6884537935256958, 3.962431181105785, 5.1199954350789385, 5.752538839975993, 3.815319299697876, 4.467962741851807, 3.867816209793091, 2.3995757897694907, 6.068544069925944, 5.987120707829793, 7.146831671396892, 5.0030903816223145, 4.067257483800252, 6.058703184127808, 4.6581025918324785, 6.34071159362793, 4.360821167627971, 5.751536766688029, 5.5470757484436035, 6.7048923174540205]\n"
     ]
    },
    {
     "data": {
      "image/png": "[encoded data removed]",
      "text/plain": [
       "<Figure size 640x480 with 1 Axes>"
      ]
     },
     "metadata": {},
     "output_type": "display_data"
    }
   ],
   "source": [
    "print(list_loss)\n",
    "# plt.plot(list(range(0, 21)), list_accuracy)\n",
    "plt.plot(list(range(0, 21)), list_loss)\n",
    "plt.show()"
   ]
  },
  {
   "cell_type": "code",
   "execution_count": null,
   "id": "101dc9e2",
   "metadata": {},
   "outputs": [],
   "source": []
  }
 ],
 "metadata": {
  "kernelspec": {
   "display_name": "teach_augment",
   "language": "python",
   "name": "teach_augment"
  },
  "language_info": {
   "codemirror_mode": {
    "name": "ipython",
    "version": 3
   },
   "file_extension": ".py",
   "mimetype": "text/x-python",
   "name": "python",
   "nbconvert_exporter": "python",
   "pygments_lexer": "ipython3",
   "version": "3.9.15"
  }
 },
 "nbformat": 4,
 "nbformat_minor": 5
}
